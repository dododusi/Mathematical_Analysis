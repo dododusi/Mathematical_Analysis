{
 "cells": [
  {
   "cell_type": "markdown",
   "id": "603bf829-b90e-441c-ae63-72d637d68efa",
   "metadata": {},
   "source": [
    "# Лабораторная работа - Математический анализ - 1"
   ]
  },
  {
   "cell_type": "markdown",
   "id": "95518116-835c-44d6-9613-501952299fcb",
   "metadata": {},
   "source": [
    "# Вычислить интеграл"
   ]
  },
  {
   "cell_type": "markdown",
   "id": "1b7bd15a-160c-4dd3-84d5-fe38775cfeae",
   "metadata": {},
   "source": [
    "## Разбиение отрезка"
   ]
  },
  {
   "cell_type": "code",
   "execution_count": 235,
   "id": "08b59cf7-dd22-484a-bfcf-7b2c1671f1e3",
   "metadata": {},
   "outputs": [],
   "source": [
    "import pandas as pd\n",
    "import numpy as np\n",
    "import math\n",
    "\n",
    "import random\n",
    "from sklearn.metrics import mean_absolute_error, mean_squared_error\n",
    "\n",
    "import matplotlib.pyplot as plt\n",
    "from ipywidgets import interactive_output, IntSlider, VBox"
   ]
  },
  {
   "cell_type": "code",
   "execution_count": 239,
   "id": "12547ba7-0313-418e-8e95-cf6399e07ce9",
   "metadata": {},
   "outputs": [],
   "source": [
    "# основная функция варианта\n",
    "def f(x):\n",
    "    cos_x = (math.cos(x))**2\n",
    "    return cos_x\n",
    "\n",
    "# основной отрезок\n",
    "main_interval = [0, 3.14]\n",
    "\n",
    "# функция для тестов\n",
    "# def g(x):\n",
    "#     return (2 ** (-x)) - (x**2)*(np.log(2))"
   ]
  },
  {
   "cell_type": "code",
   "execution_count": 237,
   "id": "ab445b50-f859-41fa-99ad-f51248408e39",
   "metadata": {},
   "outputs": [],
   "source": [
    "# функция разбивающая отрезок на n равных частей\n",
    "def division(interval: list, n: int):\n",
    "\n",
    "    left = interval[0]\n",
    "    right = interval[-1]\n",
    "    fragmentation = []\n",
    "    step = round( abs(right - left) / n, 4) \n",
    "\n",
    "    # разбиение\n",
    "    while abs(right - left) >= step:\n",
    "        fragmentation.append([left, round(left+step, 5)])\n",
    "        left = round(left + step, 5)\n",
    "\n",
    "    # корректировка правой границы\n",
    "    if right != left and abs(right - left) > step / 1.2 : fragmentation.append([left, right])\n",
    "    else: fragmentation[-1][-1] = right\n",
    "        \n",
    "    return fragmentation"
   ]
  },
  {
   "cell_type": "markdown",
   "id": "27d09e66-97a5-4f36-a0b1-b2c752938e3f",
   "metadata": {},
   "source": [
    "## Интегральная сумма - Метод прямоугольников"
   ]
  },
  {
   "cell_type": "code",
   "execution_count": 238,
   "id": "51ff2848-4a17-4b20-b3c4-3755edab3844",
   "metadata": {},
   "outputs": [],
   "source": [
    "def integral_sum(fragmentation: list, option: str):\n",
    "\n",
    "    # опции\n",
    "    if option == \"left\": # все левые концы\n",
    "        points = [part[0] for part in fragmentation]\n",
    "        \n",
    "    elif option == \"right\": # все правые концы\n",
    "        points = [part[1] for part in fragmentation]\n",
    "        \n",
    "    elif option == \"mid\": # все средние точки\n",
    "        points = [ (part[1] + part[0]) / 2 for part in fragmentation]\n",
    "\n",
    "    else: # все произвольные точки\n",
    "        points = [ random.uniform(part[0], part[1]) for part in fragmentation]\n",
    "\n",
    "    # значения в выбранных точках \n",
    "    values_fx = [f(x) for x in points]\n",
    "\n",
    "    # площадь каждого прямоугольника\n",
    "    main_sum = [values_fx[i] * abs(fragmentation[i][1] - fragmentation[i][0]) for i in range(len(fragmentation))]\n",
    "\n",
    "    # итоговая сумма \n",
    "    return values_fx, sum(main_sum)"
   ]
  },
  {
   "cell_type": "code",
   "execution_count": 241,
   "id": "7741fb9e-f39d-4fb4-a982-8ac96700be26",
   "metadata": {},
   "outputs": [
    {
     "data": {
      "text/plain": [
       "1.569373390935333"
      ]
     },
     "execution_count": 241,
     "metadata": {},
     "output_type": "execute_result"
    }
   ],
   "source": [
    "# тест суммы\n",
    "nums = division(main_interval, 4)\n",
    "_, integral = integral_sum(nums, \"right\")\n",
    "integral"
   ]
  },
  {
   "cell_type": "markdown",
   "id": "40c75846-c632-4bd1-ab6e-5ebadfc81c7e",
   "metadata": {},
   "source": [
    "## Интегральная сумма - Метод трапеций"
   ]
  },
  {
   "cell_type": "code",
   "execution_count": 242,
   "id": "7a25e004-6766-4ba0-888d-9e156729a160",
   "metadata": {},
   "outputs": [],
   "source": [
    "def trapezoid_method(fragmentation: list):\n",
    "\n",
    "    # по формуле\n",
    "    main_sum = [ ( (f(part[0]) + f(part[1])) * abs(part[1]-part[0]) / 2 ) for part in fragmentation]\n",
    "    \n",
    "    return sum(main_sum)"
   ]
  },
  {
   "cell_type": "code",
   "execution_count": 243,
   "id": "30b5ae2a-1fc9-4a70-bf7d-c7cf177c3e84",
   "metadata": {},
   "outputs": [
    {
     "data": {
      "text/plain": [
       "1.5692239289079883"
      ]
     },
     "execution_count": 243,
     "metadata": {},
     "output_type": "execute_result"
    }
   ],
   "source": [
    "# тест суммы\n",
    "nums = division(main_interval, 16)\n",
    "integral = trapezoid_method(nums)\n",
    "integral"
   ]
  },
  {
   "cell_type": "markdown",
   "id": "1d70eecb-4143-4e81-b624-ef23c43a4036",
   "metadata": {},
   "source": [
    "## Интегральная сумма - Метод Симпсона"
   ]
  },
  {
   "cell_type": "code",
   "execution_count": 245,
   "id": "f23419db-6377-4b7f-b14e-3e87af385656",
   "metadata": {},
   "outputs": [],
   "source": [
    "def simpson_method(fragmentation: list):\n",
    "\n",
    "    # по предложенной формуле\n",
    "    main_sum = [ ( (f(part[0]) + 4 * (f((part[0] + part[1]) / 2)) + f(part[1])) * abs(part[1]-part[0]) / 6 ) \n",
    "                for part in fragmentation]\n",
    "    \n",
    "    return sum(main_sum)"
   ]
  },
  {
   "cell_type": "code",
   "execution_count": 246,
   "id": "1ac88b1d-1f9c-4ba1-9f52-fed505ef5f71",
   "metadata": {},
   "outputs": [
    {
     "data": {
      "text/plain": [
       "1.5692036551385289"
      ]
     },
     "execution_count": 246,
     "metadata": {},
     "output_type": "execute_result"
    }
   ],
   "source": [
    "# тест суммы\n",
    "nums = division(main_interval, 16)\n",
    "integral = simpson_method(nums)\n",
    "integral"
   ]
  },
  {
   "cell_type": "markdown",
   "id": "32628ad8-d2e5-4378-909a-4b7ba41765b4",
   "metadata": {},
   "source": [
    "## Графики"
   ]
  },
  {
   "cell_type": "code",
   "execution_count": 247,
   "id": "64188602-b8d9-41a4-a2d8-3f4f586e870b",
   "metadata": {},
   "outputs": [],
   "source": [
    "def plot_integration(func, method: str, interval: list, n: int):\n",
    "\n",
    "    # инициализация\n",
    "    x_space = np.linspace(interval[0], interval[1], 1000)\n",
    "    y_space = [func(x) for x in x_space]\n",
    "    fragmentation = division(interval, n)\n",
    "\n",
    "    # график для методов опционально\n",
    "    if method == \"sum\":\n",
    "        values, _ = integral_sum(fragmentation, \"\")\n",
    "\n",
    "        for (x0, x1), h in zip(fragmentation, values):\n",
    "            plt.bar(x0, h, width=x1-x0, align='edge', alpha=0.5, edgecolor=\"red\")\n",
    "\n",
    "    elif method == \"trap\":\n",
    "        x_values_trap = [part[0] for part in fragmentation] + [fragmentation[-1][-1]]\n",
    "        у_values_trap = [func(x) for x in x_values_trap]\n",
    "        \n",
    "        plt.plot(x_values_trap, у_values_trap, color=\"red\", linestyle=\"--\")\n",
    "        plt.fill_between(x_values_trap, у_values_trap, color=\"red\", alpha=0.3)\n",
    "\n",
    "    else:\n",
    "        for x0, x1 in fragmentation:\n",
    "            \n",
    "            xm = (x0 + x1)/2\n",
    "            x_parab = [x0, xm, x1]\n",
    "            y_parab = [f(x0), (f(x0) + 4 * (f((x0 + x1) / 2)) + f(x1))/6, f(x1)]\n",
    "        \n",
    "            plt.plot(x_parab, y_parab, color=\"red\", linestyle=\"--\")\n",
    "            plt.fill_between(x_parab, y_parab, color=\"red\", alpha=0.3)\n",
    "\n",
    "    # отображение основной функции анализа\n",
    "    plt.plot(x_space, y_space, color=\"black\", linestyle=\"-\")\n",
    "\n",
    "    # найстройки\n",
    "    plt.title(\"График функции и ее апроксимации\")\n",
    "    plt.xlabel(\"X\")\n",
    "    plt.ylabel(\"Y\")\n",
    "    \n",
    "    plt.grid(True)\n",
    "    plt.show()"
   ]
  },
  {
   "cell_type": "code",
   "execution_count": 248,
   "id": "45efc644-1803-43e4-8ed3-6d3463f08cf0",
   "metadata": {},
   "outputs": [
    {
     "data": {
      "application/vnd.jupyter.widget-view+json": {
       "model_id": "c58d64d2f424430f854714f7a8c834ec",
       "version_major": 2,
       "version_minor": 0
      },
      "text/plain": [
       "VBox(children=(Output(), IntSlider(value=10, description='Разбиений', max=16, min=2)))"
      ]
     },
     "execution_count": 248,
     "metadata": {},
     "output_type": "execute_result"
    }
   ],
   "source": [
    "# красивый вывод\n",
    "\n",
    "n_slider = IntSlider(min=2, max=16, step=1, value=10, description=\"Разбиений\")\n",
    "out = interactive_output(\n",
    "    lambda n: plot_integration(f, \"trap\", [0, 3.14], n),\n",
    "    {\"n\": n_slider}\n",
    ")\n",
    "\n",
    "VBox([out, n_slider])"
   ]
  },
  {
   "cell_type": "code",
   "execution_count": 249,
   "id": "d60768e6-ad13-49d9-a7b2-bd375f872f38",
   "metadata": {},
   "outputs": [
    {
     "data": {
      "application/vnd.jupyter.widget-view+json": {
       "model_id": "7dd625f7f3e647dbb74c124c4d3276d8",
       "version_major": 2,
       "version_minor": 0
      },
      "text/plain": [
       "VBox(children=(Output(), IntSlider(value=10, description='Разбиений', max=128, min=2)))"
      ]
     },
     "execution_count": 249,
     "metadata": {},
     "output_type": "execute_result"
    }
   ],
   "source": [
    "# красивый вывод\n",
    "\n",
    "n_slider = IntSlider(min=2, max=128, step=1, value=10, description=\"Разбиений\")\n",
    "out = interactive_output(\n",
    "    lambda n: plot_integration(f, \"sum\", [0, 3.14], n),\n",
    "    {\"n\": n_slider}\n",
    ")\n",
    "\n",
    "VBox([out, n_slider])"
   ]
  },
  {
   "cell_type": "code",
   "execution_count": 250,
   "id": "51e1d2d7-6236-4b66-a808-8c6853723141",
   "metadata": {},
   "outputs": [
    {
     "data": {
      "application/vnd.jupyter.widget-view+json": {
       "model_id": "f59567ff91c24016a7f0c83de4ef3ef1",
       "version_major": 2,
       "version_minor": 0
      },
      "text/plain": [
       "VBox(children=(Output(), IntSlider(value=10, description='Разбиений', max=128, min=2)))"
      ]
     },
     "execution_count": 250,
     "metadata": {},
     "output_type": "execute_result"
    }
   ],
   "source": [
    "# красивый вывод\n",
    "n_slider = IntSlider(min=2, max=128, step=1, value=10, description=\"Разбиений\")\n",
    "out = interactive_output(\n",
    "    lambda n: plot_integration(f, \"sim\", [0, 3.14], n),\n",
    "    {\"n\": n_slider}\n",
    ")\n",
    "\n",
    "VBox([out, n_slider])"
   ]
  },
  {
   "cell_type": "markdown",
   "id": "5b0645de-bd03-4843-ace9-0901652e8e1a",
   "metadata": {},
   "source": [
    "## Анализ отклонений"
   ]
  },
  {
   "cell_type": "code",
   "execution_count": 251,
   "id": "f6b5d299-ebfb-4bbd-94c3-c8aeb3b40d56",
   "metadata": {},
   "outputs": [],
   "source": [
    "# инициализация\n",
    "integral_mae_list = []\n",
    "trapezoid_mae_list = []\n",
    "simpson_mae_list = []\n",
    "true_value = math.pi /2\n",
    "n_list = [1, 2, 4, 8, 16, 32]\n",
    "\n",
    "# формирование\n",
    "for n in n_list:\n",
    "    fragmentation = division([0, 3.14], n)\n",
    "    _, integral = integral_sum(fragmentation, \"right\")\n",
    "    trapezoid = trapezoid_method(fragmentation)\n",
    "    simpson = simpson_method(fragmentation)\n",
    "\n",
    "    integral_mae_list.append(mean_absolute_error([true_value], [integral]))\n",
    "    trapezoid_mae_list.append(mean_absolute_error([true_value], [trapezoid]))\n",
    "    simpson_mae_list.append(mean_absolute_error([true_value], [simpson]))"
   ]
  },
  {
   "cell_type": "code",
   "execution_count": 252,
   "id": "42f4e564-ebdd-48d0-8a5c-55c6c18d5e0b",
   "metadata": {},
   "outputs": [
    {
     "data": {
      "image/png": "[encoded data removed]",
      "text/plain": [
       "<Figure size 1800x500 with 3 Axes>"
      ]
     },
     "metadata": {},
     "output_type": "display_data"
    }
   ],
   "source": [
    "# вывод результатов\n",
    "fig, axes = plt.subplots(1, 3, figsize=(18, 5))\n",
    "\n",
    "# Метод прямоугольников\n",
    "axes[0].plot(n_list, integral_mae_list, color=\"red\", linestyle=\"-\")\n",
    "axes[0].set_title(\"Метод прямоугольников\")\n",
    "axes[0].set_xlabel(\"Разбиение\")\n",
    "axes[0].set_ylabel(\"MAE\")\n",
    "axes[0].grid(True)\n",
    "\n",
    "# Метод трапеций\n",
    "axes[1].plot(n_list, trapezoid_mae_list, color=\"green\", linestyle=\"-\")\n",
    "axes[1].set_title(\"Метод трапеций\")\n",
    "axes[1].set_xlabel(\"Разбиение\")\n",
    "axes[1].set_ylabel(\"MAE\")\n",
    "axes[1].grid(True)\n",
    "\n",
    "# Метод Симпсона\n",
    "axes[2].plot(n_list, simpson_mae_list, color=\"yellow\", linestyle=\"-\")\n",
    "axes[2].set_title(\"Метод Симпсона\")\n",
    "axes[2].set_xlabel(\"Разбиение\")\n",
    "axes[2].set_ylabel(\"MAE\")\n",
    "axes[2].grid(True)\n",
    "\n",
    "fig.suptitle(\"Зависимость отклонения найденного интеграла от числа разбиений\", fontsize=16)\n",
    "plt.tight_layout()\n",
    "plt.show()"
   ]
  },
  {
   "cell_type": "code",
   "execution_count": null,
   "id": "9165b507-98db-4b9a-8120-59fc26861382",
   "metadata": {},
   "outputs": [],
   "source": []
  }
 ],
 "metadata": {
  "kernelspec": {
   "display_name": "Python 3 (ipykernel)",
   "language": "python",
   "name": "python3"
  },
  "language_info": {
   "codemirror_mode": {
    "name": "ipython",
    "version": 3
   },
   "file_extension": ".py",
   "mimetype": "text/x-python",
   "name": "python",
   "nbconvert_exporter": "python",
   "pygments_lexer": "ipython3",
   "version": "3.12.7"
  }
 },
 "nbformat": 4,
 "nbformat_minor": 5
}
